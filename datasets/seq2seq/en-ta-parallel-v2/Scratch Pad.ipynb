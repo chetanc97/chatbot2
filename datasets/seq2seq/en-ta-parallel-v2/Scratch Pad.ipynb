{
 "cells": [
  {
   "cell_type": "code",
   "execution_count": 1,
   "metadata": {
    "collapsed": true
   },
   "outputs": [],
   "source": [
    "TA_BLACKLIST = '0123456789abcdefghijklmnopqrstuvwxyzABCDEFGHIJKLMNOPQRSTUVWXYZ!\"#$%&\\'()*+,-./:;<=>?@[\\\\]^_`{|}~'\n",
    "EN_BLACKLIST = '0123456789ABCDEFGHIJKLMNOPQRSTUVWXYZ!\"#$%&\\'()*+,-./:;<=>?@[\\\\]^_`{|}~'\n",
    "\n",
    "FILENAME = { 'dev' : { 'en' : 'data/corpus.bcn.dev.en', 'ta' : 'data/corpus.bcn.dev.ta' },\n",
    "             'test' : { 'en' : 'data/corpus.bcn.test.en', 'ta' : 'data/corpus.bcn.test.ta'},\n",
    "             'train' : { 'en' : 'data/corpus.bcn.train.en', 'ta' : 'data/corpus.bcn.train.ta' }\n",
    "           }"
   ]
  },
  {
   "cell_type": "code",
   "execution_count": 5,
   "metadata": {
    "collapsed": false
   },
   "outputs": [
    {
     "data": {
      "text/plain": [
       "<module 'data' from '/home/suriya/_/tf/datasets/seq2seq/en-ta-parallel-v2/data.py'>"
      ]
     },
     "execution_count": 5,
     "metadata": {},
     "output_type": "execute_result"
    }
   ],
   "source": [
    "import data\n",
    "import importlib\n",
    "importlib.reload(data)"
   ]
  },
  {
   "cell_type": "code",
   "execution_count": 6,
   "metadata": {
    "collapsed": false
   },
   "outputs": [],
   "source": [
    "dev_ta_lines = data.read_lines(filename = FILENAME['train']['ta'])\n",
    "dev_en_lines = data.read_lines(filename = FILENAME['train']['en'])"
   ]
  },
  {
   "cell_type": "code",
   "execution_count": 7,
   "metadata": {
    "collapsed": false
   },
   "outputs": [
    {
     "data": {
      "text/plain": [
       "166871"
      ]
     },
     "execution_count": 7,
     "metadata": {},
     "output_type": "execute_result"
    }
   ],
   "source": [
    "len(dev_ta_lines)"
   ]
  },
  {
   "cell_type": "code",
   "execution_count": 8,
   "metadata": {
    "collapsed": true
   },
   "outputs": [],
   "source": [
    "new_lines = []\n",
    "for line in dev_ta_lines:\n",
    "    if '.' in line:\n",
    "        new_lines.extend(line.split('.'))\n",
    "    else:\n",
    "        new_lines.append(line)"
   ]
  },
  {
   "cell_type": "code",
   "execution_count": 26,
   "metadata": {
    "collapsed": true
   },
   "outputs": [],
   "source": [
    "new_lines1 = []\n",
    "for line in dev_en_lines:\n",
    "    if '.' in line:\n",
    "        new_lines1.extend(line.split('.'))\n",
    "    else:\n",
    "        new_lines1.append(line)"
   ]
  },
  {
   "cell_type": "code",
   "execution_count": 28,
   "metadata": {
    "collapsed": false
   },
   "outputs": [
    {
     "name": "stdout",
     "output_type": "stream",
     "text": [
      "367626\n"
     ]
    }
   ],
   "source": [
    "print(len(new_lines))"
   ]
  },
  {
   "cell_type": "code",
   "execution_count": 27,
   "metadata": {
    "collapsed": false
   },
   "outputs": [
    {
     "name": "stdout",
     "output_type": "stream",
     "text": [
      "340738\n"
     ]
    }
   ],
   "source": [
    "print(len(new_lines1))"
   ]
  },
  {
   "cell_type": "code",
   "execution_count": 11,
   "metadata": {
    "collapsed": false
   },
   "outputs": [],
   "source": [
    "from matplotlib import pyplot as plt\n",
    "%matplotlib inline\n",
    "import nltk\n",
    "import itertools"
   ]
  },
  {
   "cell_type": "code",
   "execution_count": 19,
   "metadata": {
    "collapsed": false
   },
   "outputs": [],
   "source": [
    "old_line_dist = [len(line) for line in dev_ta_lines]\n",
    "new_line_dist = [len(line) for line in new_lines]"
   ]
  },
  {
   "cell_type": "code",
   "execution_count": 24,
   "metadata": {
    "collapsed": false
   },
   "outputs": [
    {
     "data": {
      "image/png": "[encoded data removed]",
      "text/plain": [
       "<matplotlib.figure.Figure at 0x7f6a216099e8>"
      ]
     },
     "metadata": {},
     "output_type": "display_data"
    }
   ],
   "source": [
    "plt.plot(list(range(len(old_line_dist))),old_line_dist)\n",
    "plt.show()"
   ]
  },
  {
   "cell_type": "code",
   "execution_count": 25,
   "metadata": {
    "collapsed": false
   },
   "outputs": [
    {
     "data": {
      "image/png": "[encoded data removed]",
      "text/plain": [
       "<matplotlib.figure.Figure at 0x7f6a210b8f98>"
      ]
     },
     "metadata": {},
     "output_type": "display_data"
    }
   ],
   "source": [
    "plt.plot(list(range(len(new_line_dist))),new_line_dist)\n",
    "plt.show()"
   ]
  },
  {
   "cell_type": "code",
   "execution_count": null,
   "metadata": {
    "collapsed": true
   },
   "outputs": [],
   "source": []
  },
  {
   "cell_type": "code",
   "execution_count": 32,
   "metadata": {
    "collapsed": false
   },
   "outputs": [
    {
     "name": "stdout",
     "output_type": "stream",
     "text": [
      "37% filtered from original data\n"
     ]
    }
   ],
   "source": [
    "\n",
    "# change to lower case (just for en)\n",
    "dev_en_lines = [ line.lower() for line in dev_en_lines ]\n",
    "\n",
    "dev_ta_lines = [ data.filter_line(line, TA_BLACKLIST) for line in dev_ta_lines ]\n",
    "dev_en_lines = [ data.filter_line(line, EN_BLACKLIST) for line in dev_en_lines ]\n",
    "\n",
    "dev_ta_lines, dev_en_lines = data.filter_data(dev_ta_lines, dev_en_lines)\n",
    "\n",
    "dev_en_w = [ wordlist.split(' ') for wordlist in dev_en_lines ]\n",
    "\n",
    "#vocab_en, idx2w_en, w2idx_en = index_(dev_en_w, vocab_size=10000)\n",
    "#_, idx2ch_ta, ch2idx_ta = index_(dev_ta_lines, vocab_size=None)"
   ]
  },
  {
   "cell_type": "code",
   "execution_count": 34,
   "metadata": {
    "collapsed": false
   },
   "outputs": [
    {
     "name": "stdout",
     "output_type": "stream",
     "text": [
      " கட்சியின் துணைத்தலைவர் க்வாஸி ஹுசேன் அகமத் சென்ற மாதம் பின்வருமாறு அறிவித்தார் நாங்கள் தீவிரவாதிகள் அல்ல\n"
     ]
    }
   ],
   "source": [
    "line = dev_ta_lines[0]\n",
    "print(line)"
   ]
  },
  {
   "cell_type": "code",
   "execution_count": 38,
   "metadata": {
    "collapsed": false
   },
   "outputs": [
    {
     "name": "stdout",
     "output_type": "stream",
     "text": [
      "['கட்சியின்', 'துணைத்தலைவர்', 'க்வாஸி', 'ஹுசேன்', 'அகமத்', 'சென்ற', 'மாதம்', 'பின்வருமாறு', 'அறிவித்தார்', 'நாங்கள்', 'தீவிரவாதிகள்', 'அல்ல']\n"
     ]
    }
   ],
   "source": [
    "words = line.split(' ')[1:]\n",
    "print(words)"
   ]
  },
  {
   "cell_type": "code",
   "execution_count": 106,
   "metadata": {
    "collapsed": false
   },
   "outputs": [],
   "source": [
    "def combinations(word):\n",
    "    combs = []\n",
    "    for i in range(len(word)):\n",
    "        if word[i] not in blklist_str:\n",
    "            for j in range(i+2,len(word)+1):\n",
    "                combs.append(word[i:j])\n",
    "    return combs"
   ]
  },
  {
   "cell_type": "code",
   "execution_count": 109,
   "metadata": {
    "collapsed": false
   },
   "outputs": [
    {
     "data": {
      "text/plain": [
       "['கட',\n",
       " 'கட்',\n",
       " 'கட்ச',\n",
       " 'கட்சி',\n",
       " 'கட்சிய',\n",
       " 'கட்சியி',\n",
       " 'கட்சியின',\n",
       " 'கட்சியின்',\n",
       " 'ட்',\n",
       " 'ட்ச',\n",
       " 'ட்சி',\n",
       " 'ட்சிய',\n",
       " 'ட்சியி',\n",
       " 'ட்சியின',\n",
       " 'ட்சியின்',\n",
       " 'சி',\n",
       " 'சிய',\n",
       " 'சியி',\n",
       " 'சியின',\n",
       " 'சியின்',\n",
       " 'யி',\n",
       " 'யின',\n",
       " 'யின்',\n",
       " 'ன்']"
      ]
     },
     "execution_count": 109,
     "metadata": {},
     "output_type": "execute_result"
    }
   ],
   "source": [
    "combinations(words[0])"
   ]
  },
  {
   "cell_type": "code",
   "execution_count": 87,
   "metadata": {
    "collapsed": false
   },
   "outputs": [],
   "source": [
    "_, idx2ch_ta, ch2idx_ta = data.index_(dev_ta_lines, vocab_size=None)"
   ]
  },
  {
   "cell_type": "code",
   "execution_count": 101,
   "metadata": {
    "collapsed": false
   },
   "outputs": [],
   "source": [
    "ta_ch_blacklist = [2,6,7,8,17,22,23,30,32,34,38]"
   ]
  },
  {
   "cell_type": "code",
   "execution_count": 102,
   "metadata": {
    "collapsed": true
   },
   "outputs": [],
   "source": [
    "blklist_str = ''.join([idx2ch_ta[ch] for ch in ta_ch_blacklist] + idx2ch_ta[48:])"
   ]
  },
  {
   "cell_type": "code",
   "execution_count": 103,
   "metadata": {
    "collapsed": false
   },
   "outputs": [
    {
     "data": {
      "text/plain": [
       "'்ுிாைேெீூோொௌ‘’é”è“üäöç\\u200côÜ\\x91ÖÎîêÉëï«â'"
      ]
     },
     "execution_count": 103,
     "metadata": {},
     "output_type": "execute_result"
    }
   ],
   "source": [
    "blklist_str"
   ]
  },
  {
   "cell_type": "code",
   "execution_count": 113,
   "metadata": {
    "collapsed": false
   },
   "outputs": [],
   "source": [
    "import pickle\n",
    "with open('ta_blacklist.pkl','wb') as f:\n",
    "    pickle.dump(blklist_str, f)"
   ]
  },
  {
   "cell_type": "code",
   "execution_count": 97,
   "metadata": {
    "collapsed": true
   },
   "outputs": [
    {
     "name": "stdout",
     "output_type": "stream",
     "text": [
      "[0-_]\n",
      "[1-unk]\n",
      "[2-்]\n",
      "[3- ]\n",
      "[4-க]\n",
      "[5-த]\n",
      "[6-ு]\n",
      "[7-ி]\n",
      "[8-ா]\n",
      "[9-ப]\n",
      "[10-ர]\n",
      "[11-ட]\n",
      "[12-ம]\n",
      "[13-ன]\n",
      "[14-வ]\n",
      "[15-ல]\n",
      "[16-ய]\n",
      "[17-ை]\n",
      "[18-ள]\n",
      "[19-ற]\n",
      "[20-ச]\n",
      "[21-ந]\n",
      "[22-ே]\n",
      "[23-ெ]\n",
      "[24-அ]\n",
      "[25-இ]\n",
      "[26-ண]\n",
      "[27-எ]\n",
      "[28-ங]\n",
      "[29-ழ]\n",
      "[30-ீ]\n",
      "[31-உ]\n",
      "[32-ூ]\n",
      "[33-ஆ]\n",
      "[34-ோ]\n",
      "[35-ஒ]\n",
      "[36-ஸ]\n",
      "[37-ஜ]\n",
      "[38-ொ]\n",
      "[39-ஷ]\n",
      "[40-ஏ]\n",
      "[41-ஞ]\n",
      "[42-ஐ]\n",
      "[43-ஈ]\n",
      "[44-ஹ]\n",
      "[45-ஊ]\n",
      "[46-ஓ]\n",
      "[47-ஃ]\n",
      "[48-ௌ]\n",
      "[49-‘]\n",
      "[50-’]\n",
      "[51-é]\n",
      "[52-”]\n",
      "[53-è]\n",
      "[54-“]\n",
      "[55-ü]\n",
      "[56-ä]\n",
      "[57-ö]\n",
      "[58-ç]\n",
      "[59-‌]\n",
      "[60-ô]\n",
      "[61-Ü]\n",
      "[62-]\n",
      "[63-Ö]\n",
      "[64-Î]\n",
      "[65-î]\n",
      "[66-ê]\n",
      "[67-É]\n",
      "[68-ë]\n",
      "[69-ï]\n",
      "[70-«]\n",
      "[71-â]\n"
     ]
    }
   ],
   "source": [
    "for i,ch in enumerate(idx2ch_ta):\n",
    "    print('[{0}-{1}]'.format(i,ch))"
   ]
  },
  {
   "cell_type": "code",
   "execution_count": 100,
   "metadata": {
    "collapsed": false
   },
   "outputs": [
    {
     "name": "stdout",
     "output_type": "stream",
     "text": [
      "âஒ\n"
     ]
    }
   ],
   "source": [
    "print(idx2ch_ta[71] + idx2ch_ta[35])"
   ]
  },
  {
   "cell_type": "code",
   "execution_count": 136,
   "metadata": {
    "collapsed": false
   },
   "outputs": [
    {
     "data": {
      "text/plain": [
       "<module 'tokenizer' from '/home/suriya/_/tf/datasets/seq2seq/en-ta-parallel-v2/tokenizer.py'>"
      ]
     },
     "execution_count": 136,
     "metadata": {},
     "output_type": "execute_result"
    }
   ],
   "source": [
    "import tokenizer\n",
    "importlib.reload(tokenizer)"
   ]
  },
  {
   "cell_type": "code",
   "execution_count": 125,
   "metadata": {
    "collapsed": false
   },
   "outputs": [],
   "source": [
    "ta_sym_freq = tokenizer.freq_combinations(dev_ta_lines, blklist_str)"
   ]
  },
  {
   "cell_type": "code",
   "execution_count": 127,
   "metadata": {
    "collapsed": false
   },
   "outputs": [],
   "source": [
    "with open('ta_sym_freq.pkl', 'wb') as f:\n",
    "    pickle.dump(ta_sym_freq, f)"
   ]
  },
  {
   "cell_type": "code",
   "execution_count": 135,
   "metadata": {
    "collapsed": false
   },
   "outputs": [],
   "source": [
    "sym_freq = ta_sym_freq.most_common(10000)"
   ]
  },
  {
   "cell_type": "code",
   "execution_count": 150,
   "metadata": {
    "collapsed": true
   },
   "outputs": [],
   "source": [
    "#rev_sym = dict([ (word,freq) for word, freq in sym_freq] )\n",
    "rev_sym = dict(sym_freq)"
   ]
  },
  {
   "cell_type": "code",
   "execution_count": 143,
   "metadata": {
    "collapsed": false
   },
   "outputs": [],
   "source": [
    "tokens = tokenizer.greedy_combinations(words[0])"
   ]
  },
  {
   "cell_type": "code",
   "execution_count": null,
   "metadata": {
    "collapsed": true
   },
   "outputs": [],
   "source": [
    "def fragment_word(word, sym_freq):\n",
    "    tokens = tokenizer.greedy_combinations(word)\n",
    "    max([rev_sym[token] for token in tokens])"
   ]
  },
  {
   "cell_type": "code",
   "execution_count": null,
   "metadata": {
    "collapsed": true
   },
   "outputs": [],
   "source": []
  },
  {
   "cell_type": "code",
   "execution_count": null,
   "metadata": {
    "collapsed": true
   },
   "outputs": [],
   "source": []
  },
  {
   "cell_type": "code",
   "execution_count": null,
   "metadata": {
    "collapsed": true
   },
   "outputs": [],
   "source": []
  },
  {
   "cell_type": "code",
   "execution_count": null,
   "metadata": {
    "collapsed": true
   },
   "outputs": [],
   "source": []
  },
  {
   "cell_type": "code",
   "execution_count": null,
   "metadata": {
    "collapsed": true
   },
   "outputs": [],
   "source": []
  },
  {
   "cell_type": "code",
   "execution_count": null,
   "metadata": {
    "collapsed": true
   },
   "outputs": [],
   "source": []
  }
 ],
 "metadata": {
  "kernelspec": {
   "display_name": "Python 3",
   "language": "python",
   "name": "python3"
  },
  "language_info": {
   "codemirror_mode": {
    "name": "ipython",
    "version": 3
   },
   "file_extension": ".py",
   "mimetype": "text/x-python",
   "name": "python",
   "nbconvert_exporter": "python",
   "pygments_lexer": "ipython3",
   "version": "3.5.2"
  }
 },
 "nbformat": 4,
 "nbformat_minor": 0
}
